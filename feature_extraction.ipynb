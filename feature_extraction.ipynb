{
 "cells": [
  {
   "cell_type": "code",
   "execution_count": 2,
   "metadata": {},
   "outputs": [],
   "source": [
    "ann_file=\"A01.ann\"\n",
    "txt_file=\"A01.txt\""
   ]
  },
  {
   "cell_type": "code",
   "execution_count": 3,
   "metadata": {},
   "outputs": [],
   "source": [
    "import nltk\n",
    "\n",
    "def read_ann_file(ann_file_path):\n",
    "    annotations = []\n",
    "    \n",
    "    with open(ann_file_path, 'r') as file:\n",
    "        for line in file:\n",
    "            parts = line.strip().split('\\t')\n",
    "            if len(parts) == 2:\n",
    "                # Entity annotation (e.g., T1 Person 0 4 John)\n",
    "                annotation_id, annotation_details = parts\n",
    "                entity_type, start, end, text = annotation_details.split()\n",
    "                annotations.append({\n",
    "                    \"id\": annotation_id,\n",
    "                    \"type\": entity_type,\n",
    "                    \"start\": int(start),\n",
    "                    \"end\": int(end),\n",
    "                    \"text\": text\n",
    "                })\n",
    "            elif len(parts) == 3:\n",
    "                # Relation annotation (e.g., R1 Located_in Arg1:T1 Arg2:T2)\n",
    "                annotation_id, relation_type, args = parts\n",
    "                arguments = args.split()\n",
    "                annotations.append({\n",
    "                    \"id\": annotation_id,\n",
    "                    \"relation_type\": relation_type,\n",
    "                    \"arguments\": arguments\n",
    "                })\n",
    "    \n",
    "    return annotations\n"
   ]
  },
  {
   "cell_type": "code",
   "execution_count": null,
   "metadata": {},
   "outputs": [],
   "source": [
    "annotations=read_ann_file(ann_file)\n"
   ]
  },
  {
   "cell_type": "code",
   "execution_count": 4,
   "metadata": {},
   "outputs": [],
   "source": [
    "def extract_annotated_text(txt_file_path, annotations):\n",
    "    with open(txt_file_path, 'r') as txt_file:\n",
    "        text = txt_file.read()\n",
    "\n",
    "    annotated_text = []\n",
    "    \n",
    "    for annotation in annotations:\n",
    "        if \"text\" in annotation:\n",
    "            start = annotation[\"start\"]\n",
    "            end = annotation[\"end\"]\n",
    "            annotated_text.append({\n",
    "                \"type\": annotation[\"type\"],\n",
    "                \"text\": text[start:end]\n",
    "            })\n",
    "    \n",
    "    return annotated_text\n"
   ]
  },
  {
   "cell_type": "code",
   "execution_count": null,
   "metadata": {},
   "outputs": [],
   "source": []
  }
 ],
 "metadata": {
  "kernelspec": {
   "display_name": "Python 3",
   "language": "python",
   "name": "python3"
  },
  "language_info": {
   "codemirror_mode": {
    "name": "ipython",
    "version": 3
   },
   "file_extension": ".py",
   "mimetype": "text/x-python",
   "name": "python",
   "nbconvert_exporter": "python",
   "pygments_lexer": "ipython3",
   "version": "3.12.5"
  }
 },
 "nbformat": 4,
 "nbformat_minor": 2
}
