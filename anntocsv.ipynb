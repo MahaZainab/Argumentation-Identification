{
 "cells": [
  {
   "cell_type": "code",
   "execution_count": null,
   "metadata": {},
   "outputs": [
    {
     "ename": "UnicodeDecodeError",
     "evalue": "'charmap' codec can't decode byte 0x9d in position 4890: character maps to <undefined>",
     "output_type": "error",
     "traceback": [
      "\u001b[1;31m---------------------------------------------------------------------------\u001b[0m",
      "\u001b[1;31mUnicodeDecodeError\u001b[0m                        Traceback (most recent call last)",
      "Cell \u001b[1;32mIn[2], line 41\u001b[0m\n\u001b[0;32m     38\u001b[0m ann_file \u001b[38;5;241m=\u001b[39m \u001b[38;5;124m'\u001b[39m\u001b[38;5;124mA01.ann\u001b[39m\u001b[38;5;124m'\u001b[39m   \u001b[38;5;66;03m# Path to your .ann file\u001b[39;00m\n\u001b[0;32m     39\u001b[0m output_csv \u001b[38;5;241m=\u001b[39m \u001b[38;5;124m'\u001b[39m\u001b[38;5;124moutput.csv\u001b[39m\u001b[38;5;124m'\u001b[39m   \u001b[38;5;66;03m# Path to the output CSV file\u001b[39;00m\n\u001b[1;32m---> 41\u001b[0m \u001b[43mcreate_csv_from_ann\u001b[49m\u001b[43m(\u001b[49m\u001b[43mtext_file\u001b[49m\u001b[43m,\u001b[49m\u001b[43m \u001b[49m\u001b[43mann_file\u001b[49m\u001b[43m,\u001b[49m\u001b[43m \u001b[49m\u001b[43moutput_csv\u001b[49m\u001b[43m)\u001b[49m\n",
      "Cell \u001b[1;32mIn[2], line 18\u001b[0m, in \u001b[0;36mcreate_csv_from_ann\u001b[1;34m(text_file, ann_file, output_csv)\u001b[0m\n\u001b[0;32m     15\u001b[0m \u001b[38;5;28;01mdef\u001b[39;00m \u001b[38;5;21mcreate_csv_from_ann\u001b[39m(text_file, ann_file, output_csv):\n\u001b[0;32m     16\u001b[0m     \u001b[38;5;66;03m# Read the text from the file\u001b[39;00m\n\u001b[0;32m     17\u001b[0m     \u001b[38;5;28;01mwith\u001b[39;00m \u001b[38;5;28mopen\u001b[39m(text_file, \u001b[38;5;124m'\u001b[39m\u001b[38;5;124mr\u001b[39m\u001b[38;5;124m'\u001b[39m) \u001b[38;5;28;01mas\u001b[39;00m f:\n\u001b[1;32m---> 18\u001b[0m         text \u001b[38;5;241m=\u001b[39m \u001b[43mf\u001b[49m\u001b[38;5;241;43m.\u001b[39;49m\u001b[43mread\u001b[49m\u001b[43m(\u001b[49m\u001b[43m)\u001b[49m\u001b[38;5;241m.\u001b[39mstrip()\n\u001b[0;32m     20\u001b[0m     \u001b[38;5;66;03m# Read annotations\u001b[39;00m\n\u001b[0;32m     21\u001b[0m     annotations \u001b[38;5;241m=\u001b[39m read_ann_file(ann_file)\n",
      "File \u001b[1;32mc:\\Program Files\\Python312\\Lib\\encodings\\cp1252.py:23\u001b[0m, in \u001b[0;36mIncrementalDecoder.decode\u001b[1;34m(self, input, final)\u001b[0m\n\u001b[0;32m     22\u001b[0m \u001b[38;5;28;01mdef\u001b[39;00m \u001b[38;5;21mdecode\u001b[39m(\u001b[38;5;28mself\u001b[39m, \u001b[38;5;28minput\u001b[39m, final\u001b[38;5;241m=\u001b[39m\u001b[38;5;28;01mFalse\u001b[39;00m):\n\u001b[1;32m---> 23\u001b[0m     \u001b[38;5;28;01mreturn\u001b[39;00m \u001b[43mcodecs\u001b[49m\u001b[38;5;241;43m.\u001b[39;49m\u001b[43mcharmap_decode\u001b[49m\u001b[43m(\u001b[49m\u001b[38;5;28;43minput\u001b[39;49m\u001b[43m,\u001b[49m\u001b[38;5;28;43mself\u001b[39;49m\u001b[38;5;241;43m.\u001b[39;49m\u001b[43merrors\u001b[49m\u001b[43m,\u001b[49m\u001b[43mdecoding_table\u001b[49m\u001b[43m)\u001b[49m[\u001b[38;5;241m0\u001b[39m]\n",
      "\u001b[1;31mUnicodeDecodeError\u001b[0m: 'charmap' codec can't decode byte 0x9d in position 4890: character maps to <undefined>"
     ]
    }
   ],
   "source": [
    "import csv\n",
    "\n",
    "def read_ann_file(ann_file, encoding='utf-8'):\n",
    "    annotations = []\n",
    "    with open(ann_file, 'r') as f:\n",
    "        for line in f:\n",
    "            parts = line.strip().split(\"\\t\")\n",
    "            if len(parts) > 1:\n",
    "                label = parts[1].split(\" \")[0]  # Extract label\n",
    "                span = parts[1].split(\" \")[1:]  # Extract span info\n",
    "                text = parts[-1]  # Extract text from annotation\n",
    "                annotations.append((label, text))\n",
    "    return annotations\n",
    "\n",
    "def create_csv_from_ann(text_file, ann_file, output_csv):\n",
    "    # Read the text from the file\n",
    "    with open(text_file, 'r', encoding='utf-8') as f:\n",
    "        text = f.read().strip()\n",
    "\n",
    "    # Read annotations\n",
    "    annotations = read_ann_file(ann_file)\n",
    "\n",
    "    # Prepare data for CSV: match annotations to text\n",
    "    data = []\n",
    "    for label, span in annotations:\n",
    "        start, end = map(int, span[0].split(' '))  # start and end indices\n",
    "        annotated_text = text[start:end]\n",
    "        data.append([annotated_text, label])\n",
    "\n",
    "    # Write data to CSV\n",
    "    with open(output_csv, 'w', newline='') as csvfile:\n",
    "        writer = csv.writer(csvfile)\n",
    "        writer.writerow(['Text', 'Label'])  # Column headers\n",
    "        writer.writerows(data)\n",
    "\n",
    "# Example usage\n",
    "text_file = 'A01.txt'  # Path to your text file\n",
    "ann_file = 'A01.ann'   # Path to your .ann file\n",
    "output_csv = 'output.csv'   # Path to the output CSV file\n",
    "\n",
    "create_csv_from_ann(text_file, ann_file, output_csv)\n"
   ]
  },
  {
   "cell_type": "code",
   "execution_count": null,
   "metadata": {},
   "outputs": [],
   "source": []
  }
 ],
 "metadata": {
  "kernelspec": {
   "display_name": "Python 3",
   "language": "python",
   "name": "python3"
  },
  "language_info": {
   "codemirror_mode": {
    "name": "ipython",
    "version": 3
   },
   "file_extension": ".py",
   "mimetype": "text/x-python",
   "name": "python",
   "nbconvert_exporter": "python",
   "pygments_lexer": "ipython3",
   "version": "3.12.5"
  }
 },
 "nbformat": 4,
 "nbformat_minor": 2
}
