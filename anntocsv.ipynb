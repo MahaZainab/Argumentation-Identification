{
 "cells": [
  {
   "cell_type": "code",
   "execution_count": 8,
   "metadata": {},
   "outputs": [],
   "source": [
    "import csv\n",
    "\n",
    "def read_ann_file(ann_file):\n",
    "    \"\"\"\n",
    "    Reads the .ann file and extracts the label and annotated text.\n",
    "    \"\"\"\n",
    "    annotations = []\n",
    "    with open(ann_file, 'r', encoding='utf-8') as f:\n",
    "        for line in f:\n",
    "            parts = line.strip().split(\"\\t\")\n",
    "            # Process only annotation lines (ignore relations)\n",
    "            if len(parts) > 1 and parts[0].startswith('T'):\n",
    "                label = parts[1].split(\" \")[0]  # Extract label\n",
    "                text = parts[-1]  # Extract the text that is annotated\n",
    "                annotations.append((label, text))\n",
    "    return annotations\n",
    "\n",
    "def create_csv_from_ann(text_file, ann_file, output_csv):\n",
    "    \"\"\"\n",
    "    Reads the text from the text file, extracts annotations from the .ann file,\n",
    "    and writes them to a CSV file.\n",
    "    \"\"\"\n",
    "    # Read the text from the corresponding text file\n",
    "    with open(text_file, 'r', encoding='utf-8') as f:\n",
    "        text = f.read().strip()\n",
    "\n",
    "    # Read the annotations from the .ann file\n",
    "    annotations = read_ann_file(ann_file)\n",
    "\n",
    "    # Prepare data for CSV\n",
    "    data = []\n",
    "    for label, text_content in annotations:\n",
    "        data.append([text_content, label])\n",
    "\n",
    "    # Write the extracted annotations to the CSV file\n",
    "    with open(output_csv, 'w', newline='', encoding='utf-8') as csvfile:\n",
    "        writer = csv.writer(csvfile)\n",
    "        writer.writerow(['Text', 'Label'])  # CSV headers\n",
    "        writer.writerows(data)\n",
    "\n",
    "# Example usage\n",
    "text_file = 'A01.txt'  # Path to the text file that corresponds to the .ann file\n",
    "ann_file = 'A01.ann'   # Path to the .ann file\n",
    "output_csv = 'output.csv'   # Path to the output CSV file\n",
    "\n",
    "create_csv_from_ann(text_file, ann_file, output_csv)\n"
   ]
  },
  {
   "cell_type": "code",
   "execution_count": null,
   "metadata": {},
   "outputs": [],
   "source": []
  }
 ],
 "metadata": {
  "kernelspec": {
   "display_name": "Python 3",
   "language": "python",
   "name": "python3"
  },
  "language_info": {
   "codemirror_mode": {
    "name": "ipython",
    "version": 3
   },
   "file_extension": ".py",
   "mimetype": "text/x-python",
   "name": "python",
   "nbconvert_exporter": "python",
   "pygments_lexer": "ipython3",
   "version": "3.12.5"
  }
 },
 "nbformat": 4,
 "nbformat_minor": 2
}
