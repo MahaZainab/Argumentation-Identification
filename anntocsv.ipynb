{
 "cells": [
  {
   "cell_type": "code",
   "execution_count": null,
   "metadata": {},
   "outputs": [
    {
     "ename": "ValueError",
     "evalue": "invalid literal for int() with base 10: 'c'",
     "output_type": "error",
     "traceback": [
      "\u001b[1;31m---------------------------------------------------------------------------\u001b[0m",
      "\u001b[1;31mValueError\u001b[0m                                Traceback (most recent call last)",
      "Cell \u001b[1;32mIn[5], line 41\u001b[0m\n\u001b[0;32m     38\u001b[0m ann_file \u001b[38;5;241m=\u001b[39m \u001b[38;5;124m'\u001b[39m\u001b[38;5;124mA01.ann\u001b[39m\u001b[38;5;124m'\u001b[39m   \u001b[38;5;66;03m# Path to your .ann file\u001b[39;00m\n\u001b[0;32m     39\u001b[0m output_csv \u001b[38;5;241m=\u001b[39m \u001b[38;5;124m'\u001b[39m\u001b[38;5;124moutput.csv\u001b[39m\u001b[38;5;124m'\u001b[39m   \u001b[38;5;66;03m# Path to the output CSV file\u001b[39;00m\n\u001b[1;32m---> 41\u001b[0m \u001b[43mcreate_csv_from_ann\u001b[49m\u001b[43m(\u001b[49m\u001b[43mtext_file\u001b[49m\u001b[43m,\u001b[49m\u001b[43m \u001b[49m\u001b[43mann_file\u001b[49m\u001b[43m,\u001b[49m\u001b[43m \u001b[49m\u001b[43moutput_csv\u001b[49m\u001b[43m)\u001b[49m\n",
      "Cell \u001b[1;32mIn[5], line 26\u001b[0m, in \u001b[0;36mcreate_csv_from_ann\u001b[1;34m(text_file, ann_file, output_csv)\u001b[0m\n\u001b[0;32m     24\u001b[0m data \u001b[38;5;241m=\u001b[39m []\n\u001b[0;32m     25\u001b[0m \u001b[38;5;28;01mfor\u001b[39;00m label, span \u001b[38;5;129;01min\u001b[39;00m annotations:\n\u001b[1;32m---> 26\u001b[0m     start, end \u001b[38;5;241m=\u001b[39m \u001b[38;5;28mmap\u001b[39m(\u001b[38;5;28mint\u001b[39m, span[\u001b[38;5;241m0\u001b[39m]\u001b[38;5;241m.\u001b[39msplit(\u001b[38;5;124m'\u001b[39m\u001b[38;5;124m \u001b[39m\u001b[38;5;124m'\u001b[39m))  \u001b[38;5;66;03m# start and end indices\u001b[39;00m\n\u001b[0;32m     27\u001b[0m     annotated_text \u001b[38;5;241m=\u001b[39m text[start:end]\n\u001b[0;32m     28\u001b[0m     data\u001b[38;5;241m.\u001b[39mappend([annotated_text, label])\n",
      "\u001b[1;31mValueError\u001b[0m: invalid literal for int() with base 10: 'c'"
     ]
    }
   ],
   "source": [
    "import csv\n",
    "\n",
    "def read_ann_file(ann_file):\n",
    "    \"\"\"\n",
    "    Reads the .ann file and extracts the label and annotated text.\n",
    "    \"\"\"\n",
    "    annotations = []\n",
    "    with open(ann_file, 'r', encoding='utf-8') as f:\n",
    "        for line in f:\n",
    "            parts = line.strip().split(\"\\t\")\n",
    "            # Process only annotation lines (ignore relations)\n",
    "            if len(parts) > 1 and parts[0].startswith('T'):\n",
    "                label = parts[1].split(\" \")[0]  # Extract label\n",
    "                text = parts[-1]  # Extract the text that is annotated\n",
    "                annotations.append((label, text))\n",
    "    return annotations\n",
    "\n",
    "def create_csv_from_ann(text_file, ann_file, output_csv):\n",
    "    \"\"\"\n",
    "    Reads the text from the text file, extracts annotations from the .ann file,\n",
    "    and writes them to a CSV file.\n",
    "    \"\"\"\n",
    "    # Read the text from the corresponding text file\n",
    "    with open(text_file, 'r') as f:\n",
    "        text = f.read().strip()\n",
    "\n",
    "    # Read the annotations from the .ann file\n",
    "    annotations = read_ann_file(ann_file)\n",
    "\n",
    "    # Prepare data for CSV\n",
    "    data = []\n",
    "    for label, text_content in annotations:\n",
    "        data.append([text_content, label])\n",
    "\n",
    "    # Write the extracted annotations to the CSV file\n",
    "    with open(output_csv, 'w', newline='') as csvfile:\n",
    "        writer = csv.writer(csvfile)\n",
    "        writer.writerow(['Text', 'Label'])  # CSV headers\n",
    "        writer.writerows(data)\n",
    "\n",
    "# Example usage\n",
    "text_file = 'A01.txt'  # Path to the text file that corresponds to the .ann file\n",
    "ann_file = 'A01.ann'   # Path to the .ann file\n",
    "output_csv = 'output.csv'   # Path to the output CSV file\n",
    "\n",
    "create_csv_from_ann(text_file, ann_file, output_csv)\n"
   ]
  },
  {
   "cell_type": "code",
   "execution_count": null,
   "metadata": {},
   "outputs": [],
   "source": []
  }
 ],
 "metadata": {
  "kernelspec": {
   "display_name": "Python 3",
   "language": "python",
   "name": "python3"
  },
  "language_info": {
   "codemirror_mode": {
    "name": "ipython",
    "version": 3
   },
   "file_extension": ".py",
   "mimetype": "text/x-python",
   "name": "python",
   "nbconvert_exporter": "python",
   "pygments_lexer": "ipython3",
   "version": "3.12.5"
  }
 },
 "nbformat": 4,
 "nbformat_minor": 2
}
