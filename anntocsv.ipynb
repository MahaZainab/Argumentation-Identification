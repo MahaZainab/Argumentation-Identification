{
 "cells": [
  {
   "cell_type": "code",
   "execution_count": null,
   "metadata": {},
   "outputs": [],
   "source": [
    "import csv\n",
    "\n",
    "def read_ann_file(ann_file):\n",
    "    annotations = []\n",
    "    with open(ann_file, 'r') as f:\n",
    "        for line in f:\n",
    "            parts = line.strip().split(\"\\t\")\n",
    "            if len(parts) > 1:\n",
    "                label = parts[1].split(\" \")[0]  # Extract label\n",
    "                span = parts[1].split(\" \")[1:]  # Extract span info\n",
    "                text = parts[-1]  # Extract text from annotation\n",
    "                annotations.append((label, text))\n",
    "    return annotations\n",
    "\n",
    "def create_csv_from_ann(text_file, ann_file, output_csv):\n",
    "    # Read the text from the file\n",
    "    with open(text_file, 'r') as f:\n",
    "        text = f.read().strip()\n",
    "\n",
    "    # Read annotations\n",
    "    annotations = read_ann_file(ann_file)\n",
    "\n",
    "    # Prepare data for CSV: match annotations to text\n",
    "    data = []\n",
    "    for label, span in annotations:\n",
    "        start, end = map(int, span[0].split(' '))  # start and end indices\n",
    "        annotated_text = text[start:end]\n",
    "        data.append([annotated_text, label])\n",
    "\n",
    "    # Write data to CSV\n",
    "    with open(output_csv, 'w', newline='') as csvfile:\n",
    "        writer = csv.writer(csvfile)\n",
    "        writer.writerow(['Text', 'Label'])  # Column headers\n",
    "        writer.writerows(data)\n",
    "\n",
    "# Example usage\n",
    "text_file = 'A01.txt'  # Path to your text file\n",
    "ann_file = 'A01.ann'   # Path to your .ann file\n",
    "output_csv = 'output.csv'   # Path to the output CSV file\n",
    "\n",
    "create_csv_from_ann(text_file, ann_file, output_csv)\n"
   ]
  }
 ],
 "metadata": {
  "language_info": {
   "name": "python"
  }
 },
 "nbformat": 4,
 "nbformat_minor": 2
}
